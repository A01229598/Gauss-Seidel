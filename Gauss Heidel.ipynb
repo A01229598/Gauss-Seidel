{
 "cells": [
  {
   "cell_type": "code",
   "execution_count": 1,
   "metadata": {
    "collapsed": false
   },
   "outputs": [
    {
     "name": "stdout",
     "output_type": "stream",
     "text": [
      "La solucion es:  1.345057668560028 -1.979930712373352 3.403700939046669\n"
     ]
    }
   ],
   "source": [
    "# Obtener los valores de los coeficientes a , b, y c, de tal forma que los puntos dados en la tabla pertenezcan a la gráfica del polinomio. (Gauss-Seidel)\n",
    "\n",
    "def getx1(x2,x3):\n",
    "    return (x3-x2)/4\n",
    "\n",
    "def getx2(x1,x3):\n",
    "    return (3-2*x1-3*x3)/5\n",
    "\n",
    "def getx3(x1,x2):\n",
    "    return (11-x1-2*x2)/4\n",
    "\n",
    "x1 = 0\n",
    "x2 = 0\n",
    "x3 = 0\n",
    "E = 0.01\n",
    "for i in range (100):\n",
    "    x1i = getx1(x2,x3)\n",
    "    x2i = getx2(x1i,x3)\n",
    "    x3i = getx3(x1i,x2i)\n",
    "    Ex1 = abs(x1-x1i)\n",
    "    Ex2 = abs(x2-x2i)\n",
    "    Ex3 = abs(x3-x3i)\n",
    "    x1 = x1i\n",
    "    x2 = x2i\n",
    "    x3 = x3i\n",
    "    if Ex1 < E and Ex2 < E and Ex3 < E:\n",
    "        break\n",
    "        \n",
    "print(\"La solucion es: \",x1,x2,x3)"
   ]
  },
  {
   "cell_type": "code",
   "execution_count": 4,
   "metadata": {
    "collapsed": false
   },
   "outputs": [
    {
     "name": "stdout",
     "output_type": "stream",
     "text": [
      "La solucion es:  4.0 0.0 0.0\n"
     ]
    }
   ],
   "source": [
    "# gauss - seidel\n",
    "# 4x1 + x2 - x3 = 0\n",
    "# 2x1 + 5x2 + 2x3 = 3\n",
    "# x1 + 2x2 + 4x3 = 11\n",
    "\n",
    "def getx1(x2,x3):\n",
    "    return (16-2*x2-x3)/4\n",
    "\n",
    "def getx2(x1,x3):\n",
    "    return (16-4*x1-x3)/2\n",
    "\n",
    "def getx3(x1,x2):\n",
    "    return (16-4*x1-2*x2)\n",
    "\n",
    "x1 = 0\n",
    "x2 = 0\n",
    "x3 = 0\n",
    "E = 0.01\n",
    "for i in range (100):\n",
    "    x1i = getx1(x2,x3)\n",
    "    x2i = getx2(x1i,x3)\n",
    "    x3i = getx3(x1i,x2i)\n",
    "    Ex1 = abs(x1-x1i)\n",
    "    Ex2 = abs(x2-x2i)\n",
    "    Ex3 = abs(x3-x3i)\n",
    "    x1 = x1i\n",
    "    x2 = x2i\n",
    "    x3 = x3i\n",
    "    if Ex1 < E and Ex2 < E and Ex3 < E:\n",
    "        break\n",
    "        \n",
    "print(\"La solucion es: \",x1,x2,x3)"
   ]
  },
  {
   "cell_type": "code",
   "execution_count": 1,
   "metadata": {
    "collapsed": false
   },
   "outputs": [
    {
     "name": "stdout",
     "output_type": "stream",
     "text": [
      "La solucion es:  1.99951171875 8.0006103515625 3.9998779296875\n"
     ]
    }
   ],
   "source": [
    "def getx1(x2,x3):\n",
    "    return (x3/2)\n",
    "\n",
    "def getx2(x1,x3):\n",
    "    return (210-15*x1-5*x3)/20\n",
    "\n",
    "def getx3(x1,x2):\n",
    "    return (2*x1+x2)/3\n",
    "\n",
    "x1 = 0\n",
    "x2 = 0\n",
    "x3 = 0\n",
    "E = 0.01\n",
    "for i in range (100):\n",
    "    x1i = getx1(x2,x3)\n",
    "    x2i = getx2(x1i,x3)\n",
    "    x3i = getx3(x1i,x2i)\n",
    "    Ex1 = abs(x1-x1i)\n",
    "    Ex2 = abs(x2-x2i)\n",
    "    Ex3 = abs(x3-x3i)\n",
    "    x1 = x1i\n",
    "    x2 = x2i\n",
    "    x3 = x3i\n",
    "    if Ex1 < E and Ex2 < E and Ex3 < E:\n",
    "        break\n",
    "        \n",
    "print(\"La solucion es: \",x1,x2,x3)"
   ]
  },
  {
   "cell_type": "code",
   "execution_count": 0,
   "metadata": {
    "collapsed": false
   },
   "outputs": [
   ],
   "source": [
   ]
  }
 ],
 "metadata": {
  "kernelspec": {
   "display_name": "Python 3 (Anaconda 5)",
   "language": "python",
   "name": "anaconda5"
  },
  "language_info": {
   "codemirror_mode": {
    "name": "ipython",
    "version": 3
   },
   "file_extension": ".py",
   "mimetype": "text/x-python",
   "name": "python",
   "nbconvert_exporter": "python",
   "pygments_lexer": "ipython3",
   "version": "3.6.5"
  }
 },
 "nbformat": 4,
 "nbformat_minor": 0
}